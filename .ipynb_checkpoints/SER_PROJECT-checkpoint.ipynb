{
 "cells": [
  {
   "cell_type": "markdown",
   "metadata": {},
   "source": [
    "# SPEECH EMOTION RECOGNITION"
   ]
  },
  {
   "cell_type": "markdown",
   "metadata": {},
   "source": [
    "### IMPORTING LIBRARIES"
   ]
  },
  {
   "cell_type": "code",
   "execution_count": null,
   "metadata": {},
   "outputs": [],
   "source": [
    "from pathlib import Path\n",
    "import pandas as pd\n",
    "import numpy as np\n",
    "import keras\n",
    "import os\n",
    "import os.path\n",
    "import sys\n",
    "\n",
    "import librosa                                                          #To extract the data from the audio files.\n",
    "import librosa.display\n",
    "import seaborn as sns\n",
    "import matplotlib.pyplot as plt\n",
    "\n",
    "from sklearn.neighbors import KNeighborsClassifier                      #For KNN\n",
    "from sklearn.svm import SVC                                             #For SVM\n",
    "from sklearn.preprocessing import LabelEncoder                          #For Naives Bayes\n",
    "from sklearn.naive_bayes import GaussianNB\n",
    "from sklearn.preprocessing import StandardScaler, OneHotEncoder\n",
    "from sklearn.metrics import accuracy_score\n",
    "from sklearn.metrics import confusion_matrix, classification_report\n",
    "from sklearn.model_selection import train_test_split\n",
    "\n",
    "from IPython.display import Audio                                       #To play the audio files"
   ]
  },
  {
   "cell_type": "markdown",
   "metadata": {},
   "source": [
    "### PREPROCESSING THE DATA"
   ]
  },
  {
   "cell_type": "markdown",
   "metadata": {},
   "source": [
    "#### Defining the path of the dataset files."
   ]
  },
  {
   "cell_type": "code",
   "execution_count": 1,
   "metadata": {},
   "outputs": [],
   "source": [
    "Ravdess = \"/Users/sanjanathakal/Project/archive/audio_speech_actors_01-24/\"\n",
    "Crema = \"/Users/sanjanathakal/Project/AudioWAV/\"\n",
    "Tess = \"/Users/sanjanathakal/Project/TESS Toronto emotional speech set data/TESS Toronto emotional speech set data/\"\n",
    "Savee = \"/Users/sanjanathakal/Project/ALL\""
   ]
  },
  {
   "cell_type": "markdown",
   "metadata": {},
   "source": [
    "#### For dataset 1 : RAVDESS"
   ]
  },
  {
   "cell_type": "code",
   "execution_count": 8,
   "metadata": {},
   "outputs": [
    {
     "name": "stdout",
     "output_type": "stream",
     "text": [
      "These are the unique emtotions found in this dataset:  ['angry' 'fear' 'disgust' 'sad' 'surprise' 'happy' 'calm' 'neutral']\n",
      "\n",
      "Printing the data sample :\n"
     ]
    },
    {
     "data": {
      "text/html": [
       "<div>\n",
       "<style scoped>\n",
       "    .dataframe tbody tr th:only-of-type {\n",
       "        vertical-align: middle;\n",
       "    }\n",
       "\n",
       "    .dataframe tbody tr th {\n",
       "        vertical-align: top;\n",
       "    }\n",
       "\n",
       "    .dataframe thead th {\n",
       "        text-align: right;\n",
       "    }\n",
       "</style>\n",
       "<table border=\"1\" class=\"dataframe\">\n",
       "  <thead>\n",
       "    <tr style=\"text-align: right;\">\n",
       "      <th></th>\n",
       "      <th>Emotions</th>\n",
       "      <th>Path</th>\n",
       "    </tr>\n",
       "  </thead>\n",
       "  <tbody>\n",
       "    <tr>\n",
       "      <th>0</th>\n",
       "      <td>angry</td>\n",
       "      <td>/Users/sanjanathakal/Project/archive/audio_spe...</td>\n",
       "    </tr>\n",
       "    <tr>\n",
       "      <th>1</th>\n",
       "      <td>fear</td>\n",
       "      <td>/Users/sanjanathakal/Project/archive/audio_spe...</td>\n",
       "    </tr>\n",
       "    <tr>\n",
       "      <th>2</th>\n",
       "      <td>fear</td>\n",
       "      <td>/Users/sanjanathakal/Project/archive/audio_spe...</td>\n",
       "    </tr>\n",
       "    <tr>\n",
       "      <th>3</th>\n",
       "      <td>angry</td>\n",
       "      <td>/Users/sanjanathakal/Project/archive/audio_spe...</td>\n",
       "    </tr>\n",
       "    <tr>\n",
       "      <th>4</th>\n",
       "      <td>disgust</td>\n",
       "      <td>/Users/sanjanathakal/Project/archive/audio_spe...</td>\n",
       "    </tr>\n",
       "  </tbody>\n",
       "</table>\n",
       "</div>"
      ],
      "text/plain": [
       "  Emotions                                               Path\n",
       "0    angry  /Users/sanjanathakal/Project/archive/audio_spe...\n",
       "1     fear  /Users/sanjanathakal/Project/archive/audio_spe...\n",
       "2     fear  /Users/sanjanathakal/Project/archive/audio_spe...\n",
       "3    angry  /Users/sanjanathakal/Project/archive/audio_spe...\n",
       "4  disgust  /Users/sanjanathakal/Project/archive/audio_spe..."
      ]
     },
     "execution_count": 8,
     "metadata": {},
     "output_type": "execute_result"
    }
   ],
   "source": [
    "##For dataset 1 : RAVDESS\n",
    "import os\n",
    "import pandas as pd\n",
    "\n",
    "Ravdess_Dir_list = os.listdir(Ravdess)\n",
    "emotionfile = []\n",
    "pathfile = []\n",
    "for i in Ravdess_Dir_list:\n",
    "    newpath = os.listdir(Ravdess+i)\n",
    "    #print(newpath)\n",
    "    for j in newpath:\n",
    "        part = j.split('.')[0]\n",
    "        part = part.split('-')\n",
    "        emotionfile.append(int(part[2]))\n",
    "        pathfile.append(Ravdess + i + '/' + j)\n",
    "\n",
    "emotion_df = pd.DataFrame(emotionfile, columns=['Emotions'])     # Creating a dataframe for emotions.\n",
    "path_df = pd.DataFrame(pathfile, columns=['Path'])               # Creating a dataframe for path of files.\n",
    "\n",
    "Ravdess_df = pd.concat([emotion_df, path_df], axis=1)\n",
    "\n",
    "# Assigning Unique emotion to the integers for the file name\n",
    "Ravdess_df.Emotions.replace({1:'neutral', 2:'calm', 3:'happy', 4:'sad', 5:'angry', 6:'fear', 7:'disgust', 8:'surprise'}, inplace=True)\n",
    "print(\"These are the unique emtotions found in this dataset: \", Ravdess_df.Emotions.unique())\n",
    "print(\"\\nPrinting the data sample :\")\n",
    "Ravdess_df.head()"
   ]
  },
  {
   "cell_type": "markdown",
   "metadata": {},
   "source": [
    "#### For dataset 1 : CREMA-D"
   ]
  },
  {
   "cell_type": "code",
   "execution_count": 9,
   "metadata": {},
   "outputs": [
    {
     "name": "stdout",
     "output_type": "stream",
     "text": [
      "These are the unique emtotions found in this dataset:  ['angry' 'neutral' 'disgust' 'sad' 'fear' 'happy']\n",
      "\n",
      "Printing the data sample :\n"
     ]
    },
    {
     "data": {
      "text/html": [
       "<div>\n",
       "<style scoped>\n",
       "    .dataframe tbody tr th:only-of-type {\n",
       "        vertical-align: middle;\n",
       "    }\n",
       "\n",
       "    .dataframe tbody tr th {\n",
       "        vertical-align: top;\n",
       "    }\n",
       "\n",
       "    .dataframe thead th {\n",
       "        text-align: right;\n",
       "    }\n",
       "</style>\n",
       "<table border=\"1\" class=\"dataframe\">\n",
       "  <thead>\n",
       "    <tr style=\"text-align: right;\">\n",
       "      <th></th>\n",
       "      <th>Emotions</th>\n",
       "      <th>Path</th>\n",
       "    </tr>\n",
       "  </thead>\n",
       "  <tbody>\n",
       "    <tr>\n",
       "      <th>0</th>\n",
       "      <td>angry</td>\n",
       "      <td>/Users/sanjanathakal/Project/AudioWAV/1022_ITS...</td>\n",
       "    </tr>\n",
       "    <tr>\n",
       "      <th>1</th>\n",
       "      <td>angry</td>\n",
       "      <td>/Users/sanjanathakal/Project/AudioWAV/1037_ITS...</td>\n",
       "    </tr>\n",
       "    <tr>\n",
       "      <th>2</th>\n",
       "      <td>neutral</td>\n",
       "      <td>/Users/sanjanathakal/Project/AudioWAV/1060_ITS...</td>\n",
       "    </tr>\n",
       "    <tr>\n",
       "      <th>3</th>\n",
       "      <td>neutral</td>\n",
       "      <td>/Users/sanjanathakal/Project/AudioWAV/1075_ITS...</td>\n",
       "    </tr>\n",
       "    <tr>\n",
       "      <th>4</th>\n",
       "      <td>disgust</td>\n",
       "      <td>/Users/sanjanathakal/Project/AudioWAV/1073_IOM...</td>\n",
       "    </tr>\n",
       "  </tbody>\n",
       "</table>\n",
       "</div>"
      ],
      "text/plain": [
       "  Emotions                                               Path\n",
       "0    angry  /Users/sanjanathakal/Project/AudioWAV/1022_ITS...\n",
       "1    angry  /Users/sanjanathakal/Project/AudioWAV/1037_ITS...\n",
       "2  neutral  /Users/sanjanathakal/Project/AudioWAV/1060_ITS...\n",
       "3  neutral  /Users/sanjanathakal/Project/AudioWAV/1075_ITS...\n",
       "4  disgust  /Users/sanjanathakal/Project/AudioWAV/1073_IOM..."
      ]
     },
     "execution_count": 9,
     "metadata": {},
     "output_type": "execute_result"
    }
   ],
   "source": [
    "import os\n",
    "import pandas as pd\n",
    "\n",
    "cremadirectorylist = os.listdir(Crema)\n",
    "\n",
    "Cemotionfile = []\n",
    "Cpathfile  = []\n",
    "\n",
    "for i in cremadirectorylist:\n",
    "    # storing file paths\n",
    "    Cpathfile.append(Crema + i)\n",
    "    # storing file emotions\n",
    "    part=i.split('_')\n",
    "    #print(part)\n",
    "    if part[2] == 'SAD':\n",
    "        Cemotionfile.append('sad')\n",
    "    elif part[2] == 'ANG':\n",
    "        Cemotionfile.append('angry')\n",
    "    elif part[2] == 'DIS':\n",
    "        Cemotionfile.append('disgust')\n",
    "    elif part[2] == 'FEA':\n",
    "        Cemotionfile.append('fear')\n",
    "    elif part[2] == 'HAP':\n",
    "        Cemotionfile.append('happy')\n",
    "    elif part[2] == 'NEU':\n",
    "        Cemotionfile.append('neutral')\n",
    "    else:\n",
    "        Cemotionfile.append('Unknown')\n",
    "        \n",
    "\n",
    "emotion_df = pd.DataFrame(Cemotionfile, columns=['Emotions'])       # Creating a dataframe for emotions.\n",
    "path_df = pd.DataFrame(Cpathfile, columns=['Path'])                 # Creating a dataframe for path of files.\n",
    "\n",
    "Crema_df = pd.concat([emotion_df, path_df], axis=1)\n",
    "print(\"These are the unique emtotions found in this dataset: \", emotion_df.Emotions.unique())\n",
    "print(\"\\nPrinting the data sample :\")\n",
    "Crema_df.head()"
   ]
  },
  {
   "cell_type": "markdown",
   "metadata": {},
   "source": [
    "#### For dataset 1 : TESS"
   ]
  },
  {
   "cell_type": "code",
   "execution_count": 10,
   "metadata": {},
   "outputs": [
    {
     "name": "stdout",
     "output_type": "stream",
     "text": [
      "These are the unique emtotions found in this dataset: ['disgust' 'surprise' 'happy' 'sad' 'neutral' 'fear' 'angry']\n",
      "\n",
      "Printing the data sample :\n"
     ]
    },
    {
     "data": {
      "text/html": [
       "<div>\n",
       "<style scoped>\n",
       "    .dataframe tbody tr th:only-of-type {\n",
       "        vertical-align: middle;\n",
       "    }\n",
       "\n",
       "    .dataframe tbody tr th {\n",
       "        vertical-align: top;\n",
       "    }\n",
       "\n",
       "    .dataframe thead th {\n",
       "        text-align: right;\n",
       "    }\n",
       "</style>\n",
       "<table border=\"1\" class=\"dataframe\">\n",
       "  <thead>\n",
       "    <tr style=\"text-align: right;\">\n",
       "      <th></th>\n",
       "      <th>Emotions</th>\n",
       "      <th>Path</th>\n",
       "    </tr>\n",
       "  </thead>\n",
       "  <tbody>\n",
       "    <tr>\n",
       "      <th>0</th>\n",
       "      <td>disgust</td>\n",
       "      <td>/Users/sanjanathakal/Project/TESS Toronto emot...</td>\n",
       "    </tr>\n",
       "    <tr>\n",
       "      <th>1</th>\n",
       "      <td>disgust</td>\n",
       "      <td>/Users/sanjanathakal/Project/TESS Toronto emot...</td>\n",
       "    </tr>\n",
       "    <tr>\n",
       "      <th>2</th>\n",
       "      <td>disgust</td>\n",
       "      <td>/Users/sanjanathakal/Project/TESS Toronto emot...</td>\n",
       "    </tr>\n",
       "    <tr>\n",
       "      <th>3</th>\n",
       "      <td>disgust</td>\n",
       "      <td>/Users/sanjanathakal/Project/TESS Toronto emot...</td>\n",
       "    </tr>\n",
       "    <tr>\n",
       "      <th>4</th>\n",
       "      <td>disgust</td>\n",
       "      <td>/Users/sanjanathakal/Project/TESS Toronto emot...</td>\n",
       "    </tr>\n",
       "  </tbody>\n",
       "</table>\n",
       "</div>"
      ],
      "text/plain": [
       "  Emotions                                               Path\n",
       "0  disgust  /Users/sanjanathakal/Project/TESS Toronto emot...\n",
       "1  disgust  /Users/sanjanathakal/Project/TESS Toronto emot...\n",
       "2  disgust  /Users/sanjanathakal/Project/TESS Toronto emot...\n",
       "3  disgust  /Users/sanjanathakal/Project/TESS Toronto emot...\n",
       "4  disgust  /Users/sanjanathakal/Project/TESS Toronto emot..."
      ]
     },
     "execution_count": 10,
     "metadata": {},
     "output_type": "execute_result"
    }
   ],
   "source": [
    "tessDirlist = os.listdir(Tess)\n",
    "\n",
    "file_emotion = []\n",
    "file_path = []\n",
    "\n",
    "for dir in tessDirlist:\n",
    "    directories = os.listdir(Tess + dir)\n",
    "    for file in directories:\n",
    "        part = file.split('.')[0]\n",
    "        part = part.split('_')[2]\n",
    "        if part=='ps':\n",
    "            file_emotion.append('surprise')\n",
    "        else:\n",
    "            file_emotion.append(part)\n",
    "        file_path.append(Tess + dir + '/' + file)\n",
    "        \n",
    "emotion_df = pd.DataFrame(file_emotion, columns=['Emotions'])  # Creating a dataframe for emotions.\n",
    "path_df = pd.DataFrame(file_path, columns=['Path'])            # Creating dataframe for path of files.\n",
    "\n",
    "Tess_df = pd.concat([emotion_df, path_df], axis=1)\n",
    "print(\"These are the unique emtotions found in this dataset:\", emotion_df.Emotions.unique())\n",
    "print(\"\\nPrinting the data sample :\")\n",
    "Tess_df.head()"
   ]
  },
  {
   "cell_type": "markdown",
   "metadata": {},
   "source": [
    "#### For dataset 1 : SAVEE"
   ]
  },
  {
   "cell_type": "code",
   "execution_count": 16,
   "metadata": {},
   "outputs": [
    {
     "name": "stdout",
     "output_type": "stream",
     "text": [
      "These are the unique emtotions found in this dataset: ['sad' 'neutral' 'surprise' 'fear' 'disgust' 'happy' 'angry']\n",
      "\n",
      "Printing the data sample :\n"
     ]
    },
    {
     "data": {
      "text/html": [
       "<div>\n",
       "<style scoped>\n",
       "    .dataframe tbody tr th:only-of-type {\n",
       "        vertical-align: middle;\n",
       "    }\n",
       "\n",
       "    .dataframe tbody tr th {\n",
       "        vertical-align: top;\n",
       "    }\n",
       "\n",
       "    .dataframe thead th {\n",
       "        text-align: right;\n",
       "    }\n",
       "</style>\n",
       "<table border=\"1\" class=\"dataframe\">\n",
       "  <thead>\n",
       "    <tr style=\"text-align: right;\">\n",
       "      <th></th>\n",
       "      <th>Emotions</th>\n",
       "      <th>Path</th>\n",
       "    </tr>\n",
       "  </thead>\n",
       "  <tbody>\n",
       "    <tr>\n",
       "      <th>0</th>\n",
       "      <td>sad</td>\n",
       "      <td>/Users/sanjanathakal/Project/ALLJK_sa01.wav</td>\n",
       "    </tr>\n",
       "    <tr>\n",
       "      <th>1</th>\n",
       "      <td>sad</td>\n",
       "      <td>/Users/sanjanathakal/Project/ALLJK_sa15.wav</td>\n",
       "    </tr>\n",
       "    <tr>\n",
       "      <th>2</th>\n",
       "      <td>neutral</td>\n",
       "      <td>/Users/sanjanathakal/Project/ALLDC_n13.wav</td>\n",
       "    </tr>\n",
       "    <tr>\n",
       "      <th>3</th>\n",
       "      <td>surprise</td>\n",
       "      <td>/Users/sanjanathakal/Project/ALLDC_su09.wav</td>\n",
       "    </tr>\n",
       "    <tr>\n",
       "      <th>4</th>\n",
       "      <td>neutral</td>\n",
       "      <td>/Users/sanjanathakal/Project/ALLDC_n07.wav</td>\n",
       "    </tr>\n",
       "  </tbody>\n",
       "</table>\n",
       "</div>"
      ],
      "text/plain": [
       "   Emotions                                         Path\n",
       "0       sad  /Users/sanjanathakal/Project/ALLJK_sa01.wav\n",
       "1       sad  /Users/sanjanathakal/Project/ALLJK_sa15.wav\n",
       "2   neutral   /Users/sanjanathakal/Project/ALLDC_n13.wav\n",
       "3  surprise  /Users/sanjanathakal/Project/ALLDC_su09.wav\n",
       "4   neutral   /Users/sanjanathakal/Project/ALLDC_n07.wav"
      ]
     },
     "execution_count": 16,
     "metadata": {},
     "output_type": "execute_result"
    }
   ],
   "source": [
    "SaveeDirlist = os.listdir(Savee)\n",
    "\n",
    "file_emotion = []\n",
    "file_path = []\n",
    "\n",
    "for file in SaveeDirlist:\n",
    "    file_path.append(Savee + file)\n",
    "    part = file.split('_')[1]\n",
    "    ele = part[:-6]\n",
    "    if ele=='a':\n",
    "        file_emotion.append('angry')\n",
    "    elif ele=='d':\n",
    "        file_emotion.append('disgust')\n",
    "    elif ele=='f':\n",
    "        file_emotion.append('fear')\n",
    "    elif ele=='h':\n",
    "        file_emotion.append('happy')\n",
    "    elif ele=='n':\n",
    "        file_emotion.append('neutral')\n",
    "    elif ele=='sa':\n",
    "        file_emotion.append('sad')\n",
    "    else:\n",
    "        file_emotion.append('surprise')\n",
    "        \n",
    "\n",
    "emotion_df = pd.DataFrame(file_emotion, columns=['Emotions']) # Creating a dataframe for emotions.\n",
    "path_df = pd.DataFrame(file_path, columns=['Path'])           # Creating dataframe for path of files.\n",
    "\n",
    "Savee_df = pd.concat([emotion_df, path_df], axis=1)\n",
    "print(\"These are the unique emtotions found in this dataset:\", emotion_df.Emotions.unique())\n",
    "print(\"\\nPrinting the data sample :\")\n",
    "Savee_df.head()"
   ]
  },
  {
   "cell_type": "markdown",
   "metadata": {},
   "source": [
    "### Concatinating all the datasets."
   ]
  },
  {
   "cell_type": "code",
   "execution_count": 20,
   "metadata": {},
   "outputs": [
    {
     "name": "stdout",
     "output_type": "stream",
     "text": [
      "/Users/sanjanathakal/Project\n",
      "These are the unique emtotions found in this dataset: \n",
      " ['angry' 'fear' 'disgust' 'sad' 'surprise' 'happy' 'calm' 'neutral']\n",
      "\n",
      "The sample of the concatinated datasets is as follows :\n"
     ]
    },
    {
     "data": {
      "text/html": [
       "<div>\n",
       "<style scoped>\n",
       "    .dataframe tbody tr th:only-of-type {\n",
       "        vertical-align: middle;\n",
       "    }\n",
       "\n",
       "    .dataframe tbody tr th {\n",
       "        vertical-align: top;\n",
       "    }\n",
       "\n",
       "    .dataframe thead th {\n",
       "        text-align: right;\n",
       "    }\n",
       "</style>\n",
       "<table border=\"1\" class=\"dataframe\">\n",
       "  <thead>\n",
       "    <tr style=\"text-align: right;\">\n",
       "      <th></th>\n",
       "      <th>Emotions</th>\n",
       "      <th>Path</th>\n",
       "    </tr>\n",
       "  </thead>\n",
       "  <tbody>\n",
       "    <tr>\n",
       "      <th>0</th>\n",
       "      <td>angry</td>\n",
       "      <td>/Users/sanjanathakal/Project/archive/audio_spe...</td>\n",
       "    </tr>\n",
       "    <tr>\n",
       "      <th>1</th>\n",
       "      <td>fear</td>\n",
       "      <td>/Users/sanjanathakal/Project/archive/audio_spe...</td>\n",
       "    </tr>\n",
       "    <tr>\n",
       "      <th>2</th>\n",
       "      <td>fear</td>\n",
       "      <td>/Users/sanjanathakal/Project/archive/audio_spe...</td>\n",
       "    </tr>\n",
       "    <tr>\n",
       "      <th>3</th>\n",
       "      <td>angry</td>\n",
       "      <td>/Users/sanjanathakal/Project/archive/audio_spe...</td>\n",
       "    </tr>\n",
       "    <tr>\n",
       "      <th>4</th>\n",
       "      <td>disgust</td>\n",
       "      <td>/Users/sanjanathakal/Project/archive/audio_spe...</td>\n",
       "    </tr>\n",
       "  </tbody>\n",
       "</table>\n",
       "</div>"
      ],
      "text/plain": [
       "  Emotions                                               Path\n",
       "0    angry  /Users/sanjanathakal/Project/archive/audio_spe...\n",
       "1     fear  /Users/sanjanathakal/Project/archive/audio_spe...\n",
       "2     fear  /Users/sanjanathakal/Project/archive/audio_spe...\n",
       "3    angry  /Users/sanjanathakal/Project/archive/audio_spe...\n",
       "4  disgust  /Users/sanjanathakal/Project/archive/audio_spe..."
      ]
     },
     "execution_count": 20,
     "metadata": {},
     "output_type": "execute_result"
    }
   ],
   "source": [
    "Finaldataset = pd.concat([Ravdess_df, Crema_df, Tess_df, Savee_df], axis = 0)\n",
    "p=os.getcwd()\n",
    "print (p)\n",
    "Finaldataset.to_csv(p+\"data_path.csv\",index=False)\n",
    "print(\"These are the unique emtotions found in this dataset: \\n\", Finaldataset.Emotions.unique())\n",
    "print(\"\\nThe sample of the concatinated datasets is as follows :\")\n",
    "Finaldataset.head()"
   ]
  },
  {
   "cell_type": "markdown",
   "metadata": {},
   "source": [
    "### Sample of the data :"
   ]
  },
  {
   "cell_type": "code",
   "execution_count": null,
   "metadata": {},
   "outputs": [],
   "source": []
  }
 ],
 "metadata": {
  "kernelspec": {
   "display_name": "Python 3",
   "language": "python",
   "name": "python3"
  }
 },
 "nbformat": 4,
 "nbformat_minor": 4
}
